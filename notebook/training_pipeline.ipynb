{
 "cells": [
  {
   "cell_type": "markdown",
   "metadata": {},
   "source": [
    "# Badminton Shuttlecock Detection - Training Pipeline\n",
    "Advanced AI-powered Badminton Shuttlecock Detection and Tracking System with Physics-Informed Neural Networks and Hybrid Architecture"
   ]
  },
  {
   "cell_type": "markdown",
   "metadata": {},
   "source": [
    "## 1. Setup and Installation"
   ]
  },
  {
   "cell_type": "code",
   "execution_count": null,
   "metadata": {},
   "source": [
    "from google.colab import drive\n",
    "import os\n",
    "import sys\n",
    "import torch\n",
    "import logging\n",
    "from pathlib import Path\n",
    "\n",
    "# Mount Google Drive\n",
    "print(\"📂 Mounting Google Drive...\")\n",
    "drive.mount('/content/drive')\n",
    "\n",
    "# Clone Repository\n",
    "!git clone https://github.com/MaheshSharan/BadmintonShuttleCockDetection.git\n",
    "%cd BadmintonShuttleCockDetection\n",
    "\n",
    "# Install Dependencies and Setup Package\n",
    "!pip install -r requirements.txt\n",
    "!pip install -e ."
   ]
  },
  {
   "cell_type": "markdown",
   "metadata": {},
   "source": [
    "## 2. Environment Verification"
   ]
  },
  {
   "cell_type": "code",
   "execution_count": null,
   "metadata": {},
   "source": [
    "print(\"\\n🔍 Verifying Environment:\")\n",
    "print(f\"Python version: {sys.version}\")\n",
    "print(f\"PyTorch version: {torch.__version__}\")\n",
    "\n",
    "# Check GPU\n",
    "!nvidia-smi\n",
    "print(f\"\\nCUDA available: {torch.cuda.is_available()}\")\n",
    "if torch.cuda.is_available():\n",
    "    print(f\"GPU: {torch.cuda.get_device_name(0)}\")"
   ]
  },
  {
   "cell_type": "markdown",
   "metadata": {},
   "source": [
    "## 3. Data Preparation"
   ]
  },
  {
   "cell_type": "code",
   "execution_count": null,
   "metadata": {},
   "source": [
    "print(\"\\n📊 Data Preparation\")\n",
    "\n",
    "# Create directories if they don't exist\n",
    "!mkdir -p ShuttleCockFrameDataset\n",
    "\n",
    "# Copy raw data from Drive to local\n",
    "print(\"Copying raw data from Drive...\")\n",
    "raw_data_path = \"/content/drive/MyDrive/raw_shuttlecock_data\"  # Update this path\n",
    "!cp -r $raw_data_path/* ShuttleCockFrameDataset/\n",
    "\n",
    "# Run preprocessing\n",
    "print(\"\\n🔄 Running Preprocessing Pipeline...\")\n",
    "!python -m src.data.preprocess_dataset\n",
    "print(\"\\n✅ Preprocessing Complete!\")\n",
    "\n",
    "# Verify processed data structure\n",
    "print(\"\\nProcessed Data Structure:\")\n",
    "!ls -R ShuttleCockFrameDataset"
   ]
  },
  {
   "cell_type": "markdown",
   "metadata": {},
   "source": [
    "## 4. Training Setup"
   ]
  },
  {
   "cell_type": "code",
   "execution_count": null,
   "metadata": {},
   "source": [
    "print(\"\\n🚀 Initializing Training...\")\n",
    "\n",
    "# Configure logging\n",
    "logging.basicConfig(\n",
    "    level=logging.INFO,\n",
    "    format='%(asctime)s - %(levelname)s - %(message)s'\n",
    ")\n",
    "\n",
    "# Start training\n",
    "!python -m src.main"
   ]
  },
  {
   "cell_type": "markdown",
   "metadata": {},
   "source": [
    "## 5. Training Monitoring"
   ]
  },
  {
   "cell_type": "code",
   "execution_count": null,
   "metadata": {},
   "source": [
    "print(\"\\n📈 Setting up TensorBoard...\")\n",
    "%load_ext tensorboard\n",
    "%tensorboard --logdir logs"
   ]
  },
  {
   "cell_type": "markdown",
   "metadata": {},
   "source": [
    "## 6. Save Results"
   ]
  },
  {
   "cell_type": "code",
   "execution_count": null,
   "metadata": {},
   "source": [
    "print(\"\\n💾 Saving results to Drive...\")\n",
    "output_dir = \"/content/drive/MyDrive/shuttlecock_detection_output\"\n",
    "!mkdir -p $output_dir\n",
    "!cp -r logs $output_dir/\n",
    "!cp -r ShuttleCockFrameDataset $output_dir/\n",
    "\n",
    "print(\"\\n✨ Pipeline Complete!\")"
   ]
  }
 ],
 "metadata": {
  "kernelspec": {
   "display_name": "Python 3",
   "language": "python",
   "name": "python3"
  },
  "language_info": {
   "codemirror_mode": {
    "name": "ipython",
    "version": 3
   },
   "file_extension": ".py",
   "mimetype": "text/x-python",
   "name": "python",
   "nbconvert_exporter": "python",
   "pygments_lexer": "ipython3",
   "version": "3.9.0"
  }
 },
 "nbformat": 4,
 "nbformat_minor": 4
}
